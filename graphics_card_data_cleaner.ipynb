{
 "cells": [
  {
   "cell_type": "code",
   "execution_count": 1,
   "metadata": {},
   "outputs": [],
   "source": [
    "import sys\n",
    "import pandas as pd\n",
    "import numpy as np\n",
    "import seaborn as sns\n",
    "import pickle\n",
    "import re"
   ]
  },
  {
   "cell_type": "code",
   "execution_count": 2,
   "metadata": {},
   "outputs": [
    {
     "name": "stdout",
     "output_type": "stream",
     "text": [
      "<class 'pandas.core.frame.DataFrame'>\n",
      "RangeIndex: 10000 entries, 0 to 9999\n",
      "Data columns (total 6 columns):\n",
      "condition         9970 non-null object\n",
      "manufacturer      6733 non-null object\n",
      "memory_size       8778 non-null object\n",
      "memory_type       7157 non-null object\n",
      "sold_date_time    7586 non-null datetime64[ns]\n",
      "sold_price        9886 non-null float64\n",
      "dtypes: datetime64[ns](1), float64(1), object(4)\n",
      "memory usage: 468.8+ KB\n"
     ]
    }
   ],
   "source": [
    "ebay_data = pd.read_pickle('ebay_data.pkl')\n",
    "ebay_data.info()"
   ]
  },
  {
   "cell_type": "code",
   "execution_count": 3,
   "metadata": {},
   "outputs": [
    {
     "data": {
      "text/html": [
       "<div>\n",
       "<style scoped>\n",
       "    .dataframe tbody tr th:only-of-type {\n",
       "        vertical-align: middle;\n",
       "    }\n",
       "\n",
       "    .dataframe tbody tr th {\n",
       "        vertical-align: top;\n",
       "    }\n",
       "\n",
       "    .dataframe thead th {\n",
       "        text-align: right;\n",
       "    }\n",
       "</style>\n",
       "<table border=\"1\" class=\"dataframe\">\n",
       "  <thead>\n",
       "    <tr style=\"text-align: right;\">\n",
       "      <th></th>\n",
       "      <th>condition</th>\n",
       "      <th>manufacturer</th>\n",
       "      <th>memory_size</th>\n",
       "      <th>memory_type</th>\n",
       "      <th>sold_date_time</th>\n",
       "      <th>sold_price</th>\n",
       "    </tr>\n",
       "  </thead>\n",
       "  <tbody>\n",
       "    <tr>\n",
       "      <th>0</th>\n",
       "      <td>Used</td>\n",
       "      <td>None</td>\n",
       "      <td>1GB</td>\n",
       "      <td>None</td>\n",
       "      <td>2018-07-18 23:38:00</td>\n",
       "      <td>50.00</td>\n",
       "    </tr>\n",
       "    <tr>\n",
       "      <th>1</th>\n",
       "      <td>New</td>\n",
       "      <td>NVIDIA</td>\n",
       "      <td>2GB</td>\n",
       "      <td>DDR5</td>\n",
       "      <td>2018-07-18 23:23:00</td>\n",
       "      <td>44.61</td>\n",
       "    </tr>\n",
       "    <tr>\n",
       "      <th>2</th>\n",
       "      <td>New other (see details)</td>\n",
       "      <td>ATI</td>\n",
       "      <td>256MB</td>\n",
       "      <td>None</td>\n",
       "      <td>2018-07-18 23:17:00</td>\n",
       "      <td>34.99</td>\n",
       "    </tr>\n",
       "    <tr>\n",
       "      <th>3</th>\n",
       "      <td>New</td>\n",
       "      <td>None</td>\n",
       "      <td>4GB</td>\n",
       "      <td>GDDR5</td>\n",
       "      <td>2018-07-18 22:50:00</td>\n",
       "      <td>37.00</td>\n",
       "    </tr>\n",
       "    <tr>\n",
       "      <th>4</th>\n",
       "      <td>Used</td>\n",
       "      <td>None</td>\n",
       "      <td>4GB</td>\n",
       "      <td>GDDR5</td>\n",
       "      <td>2018-07-18 22:44:00</td>\n",
       "      <td>125.00</td>\n",
       "    </tr>\n",
       "  </tbody>\n",
       "</table>\n",
       "</div>"
      ],
      "text/plain": [
       "                 condition manufacturer memory_size memory_type  \\\n",
       "0                     Used         None         1GB        None   \n",
       "1                      New       NVIDIA         2GB        DDR5   \n",
       "2  New other (see details)          ATI       256MB        None   \n",
       "3                      New         None         4GB       GDDR5   \n",
       "4                     Used         None         4GB       GDDR5   \n",
       "\n",
       "       sold_date_time  sold_price  \n",
       "0 2018-07-18 23:38:00       50.00  \n",
       "1 2018-07-18 23:23:00       44.61  \n",
       "2 2018-07-18 23:17:00       34.99  \n",
       "3 2018-07-18 22:50:00       37.00  \n",
       "4 2018-07-18 22:44:00      125.00  "
      ]
     },
     "execution_count": 3,
     "metadata": {},
     "output_type": "execute_result"
    }
   ],
   "source": [
    "ebay_data.head()"
   ]
  },
  {
   "cell_type": "code",
   "execution_count": 4,
   "metadata": {},
   "outputs": [
    {
     "data": {
      "text/html": [
       "<div>\n",
       "<style scoped>\n",
       "    .dataframe tbody tr th:only-of-type {\n",
       "        vertical-align: middle;\n",
       "    }\n",
       "\n",
       "    .dataframe tbody tr th {\n",
       "        vertical-align: top;\n",
       "    }\n",
       "\n",
       "    .dataframe thead th {\n",
       "        text-align: right;\n",
       "    }\n",
       "</style>\n",
       "<table border=\"1\" class=\"dataframe\">\n",
       "  <thead>\n",
       "    <tr style=\"text-align: right;\">\n",
       "      <th></th>\n",
       "      <th>sold_price</th>\n",
       "    </tr>\n",
       "  </thead>\n",
       "  <tbody>\n",
       "    <tr>\n",
       "      <th>count</th>\n",
       "      <td>9886.000000</td>\n",
       "    </tr>\n",
       "    <tr>\n",
       "      <th>mean</th>\n",
       "      <td>172.730563</td>\n",
       "    </tr>\n",
       "    <tr>\n",
       "      <th>std</th>\n",
       "      <td>185.473235</td>\n",
       "    </tr>\n",
       "    <tr>\n",
       "      <th>min</th>\n",
       "      <td>0.010000</td>\n",
       "    </tr>\n",
       "    <tr>\n",
       "      <th>25%</th>\n",
       "      <td>36.000000</td>\n",
       "    </tr>\n",
       "    <tr>\n",
       "      <th>50%</th>\n",
       "      <td>99.990000</td>\n",
       "    </tr>\n",
       "    <tr>\n",
       "      <th>75%</th>\n",
       "      <td>239.990000</td>\n",
       "    </tr>\n",
       "    <tr>\n",
       "      <th>max</th>\n",
       "      <td>999.990000</td>\n",
       "    </tr>\n",
       "  </tbody>\n",
       "</table>\n",
       "</div>"
      ],
      "text/plain": [
       "        sold_price\n",
       "count  9886.000000\n",
       "mean    172.730563\n",
       "std     185.473235\n",
       "min       0.010000\n",
       "25%      36.000000\n",
       "50%      99.990000\n",
       "75%     239.990000\n",
       "max     999.990000"
      ]
     },
     "execution_count": 4,
     "metadata": {},
     "output_type": "execute_result"
    }
   ],
   "source": [
    "ebay_data.describe()"
   ]
  },
  {
   "cell_type": "code",
   "execution_count": 5,
   "metadata": {},
   "outputs": [
    {
     "data": {
      "text/plain": [
       "9971"
      ]
     },
     "execution_count": 5,
     "metadata": {},
     "output_type": "execute_result"
    }
   ],
   "source": [
    "#drop rows that have all NAs\n",
    "ebay_data.dropna(how=\"all\", inplace=True)\n",
    "len(ebay_data)"
   ]
  },
  {
   "cell_type": "code",
   "execution_count": 6,
   "metadata": {},
   "outputs": [
    {
     "data": {
      "text/plain": [
       "85"
      ]
     },
     "execution_count": 6,
     "metadata": {},
     "output_type": "execute_result"
    }
   ],
   "source": [
    "#checkout target column\n",
    "len(ebay_data[ebay_data['sold_price'].isnull()])"
   ]
  },
  {
   "cell_type": "code",
   "execution_count": 7,
   "metadata": {},
   "outputs": [
    {
     "data": {
      "text/plain": [
       "0"
      ]
     },
     "execution_count": 7,
     "metadata": {},
     "output_type": "execute_result"
    }
   ],
   "source": [
    "#drop rows with missing target values\n",
    "ebay_data.dropna(subset=['sold_price'], inplace=True)\n",
    "len(ebay_data[ebay_data['sold_price'].isnull()])"
   ]
  },
  {
   "cell_type": "code",
   "execution_count": 8,
   "metadata": {},
   "outputs": [
    {
     "data": {
      "text/plain": [
       "9886"
      ]
     },
     "execution_count": 8,
     "metadata": {},
     "output_type": "execute_result"
    }
   ],
   "source": [
    "#how many rows do we have left?\n",
    "len(ebay_data)"
   ]
  },
  {
   "cell_type": "code",
   "execution_count": 9,
   "metadata": {},
   "outputs": [
    {
     "data": {
      "text/plain": [
       "2356"
      ]
     },
     "execution_count": 9,
     "metadata": {},
     "output_type": "execute_result"
    }
   ],
   "source": [
    "#check how many rows are missing sold_date_time\n",
    "len(ebay_data[ebay_data['sold_date_time'].isnull()])"
   ]
  },
  {
   "cell_type": "code",
   "execution_count": 10,
   "metadata": {},
   "outputs": [
    {
     "data": {
      "text/plain": [
       "0"
      ]
     },
     "execution_count": 10,
     "metadata": {},
     "output_type": "execute_result"
    }
   ],
   "source": [
    "#drop rows that are missing sold_date_time\n",
    "ebay_data.dropna(subset=['sold_date_time'], inplace=True)\n",
    "len(ebay_data[ebay_data['sold_date_time'].isnull()])"
   ]
  },
  {
   "cell_type": "code",
   "execution_count": 11,
   "metadata": {},
   "outputs": [
    {
     "data": {
      "text/plain": [
       "7530"
      ]
     },
     "execution_count": 11,
     "metadata": {},
     "output_type": "execute_result"
    }
   ],
   "source": [
    "#how many rows do we have left?\n",
    "len(ebay_data)"
   ]
  },
  {
   "cell_type": "code",
   "execution_count": 12,
   "metadata": {},
   "outputs": [
    {
     "data": {
      "text/plain": [
       "array([None, 'DDR5', 'GDDR5', 'GDDR3', 'GDDR3 SDRAM', 'GDDR4', 'GDDR5X',\n",
       "       'DDR3', 'GDDR5 SDRAM', 'SGRAM', 'DDR2', 'DDR SDRAM', 'DDR5 SDRAM',\n",
       "       '64bit', 'GDDR2', 'HBM2', '6GB', 'DDR', 'HBM', 'DDR1', 'GDDR1',\n",
       "       'DDR3 SDRAM', 'SDR SDRAM', 'VRAM', 'DDR5X', 'GDDR5X SDRAM',\n",
       "       'DDR2 SDRAM', '64MB', '1GB', 'GDDR2 SDRAM', 'OLD', '4GB', 'Simm',\n",
       "       'Ddr3', '256', 'DDR1 SDRAM', 'Gddr3', 'WRAM', 'GP107', 'NON',\n",
       "       'DDR4', 'EDO RAM', 'DRAM', 'GDDR4 SDRAM', 'N/A', 'SDRAM', '3D-RAM',\n",
       "       '8 GB GDDR5'], dtype=object)"
      ]
     },
     "execution_count": 12,
     "metadata": {},
     "output_type": "execute_result"
    }
   ],
   "source": [
    "#checjout memory_type\n",
    "ebay_data['memory_type'].unique()"
   ]
  },
  {
   "cell_type": "code",
   "execution_count": 13,
   "metadata": {},
   "outputs": [
    {
     "data": {
      "text/plain": [
       "GDDR5           3139\n",
       "GDDR5X           550\n",
       "DDR3             535\n",
       "DDR5             431\n",
       "GDDR3            206\n",
       "GDDR5 SDRAM      180\n",
       "DDR2             136\n",
       "HBM2              42\n",
       "DDR SDRAM         30\n",
       "GDDR3 SDRAM       28\n",
       "GDDR2             26\n",
       "DDR3 SDRAM        24\n",
       "VRAM              16\n",
       "HBM               14\n",
       "DDR1              12\n",
       "GP107             12\n",
       "DDR               11\n",
       "DDR2 SDRAM        10\n",
       "SDR SDRAM         10\n",
       "DDR5 SDRAM         9\n",
       "GDDR4              7\n",
       "DDR5X              7\n",
       "GDDR5X SDRAM       4\n",
       "GDDR1              3\n",
       "DDR1 SDRAM         3\n",
       "SGRAM              3\n",
       "DDR4               3\n",
       "64bit              2\n",
       "DRAM               2\n",
       "6GB                2\n",
       "WRAM               1\n",
       "OLD                1\n",
       "Ddr3               1\n",
       "8 GB GDDR5         1\n",
       "Simm               1\n",
       "3D-RAM             1\n",
       "N/A                1\n",
       "64MB               1\n",
       "EDO RAM            1\n",
       "1GB                1\n",
       "256                1\n",
       "NON                1\n",
       "SDRAM              1\n",
       "GDDR4 SDRAM        1\n",
       "GDDR2 SDRAM        1\n",
       "Gddr3              1\n",
       "4GB                1\n",
       "Name: memory_type, dtype: int64"
      ]
     },
     "execution_count": 13,
     "metadata": {},
     "output_type": "execute_result"
    }
   ],
   "source": [
    "ebay_data['memory_type'].value_counts()"
   ]
  },
  {
   "cell_type": "code",
   "execution_count": 14,
   "metadata": {},
   "outputs": [
    {
     "data": {
      "text/plain": [
       "array([None, 'DDR5', 'GDDR5', 'GDDR3', 'GDDR3 SDRAM', 'GDDR4', 'GDDR5X',\n",
       "       'DDR3', 'GDDR5 SDRAM', 'SGRAM', 'DDR2', 'DDR SDRAM', 'DDR5 SDRAM',\n",
       "       '64bit', 'GDDR2', 'HBM2', '6GB', 'DDR', 'HBM', 'DDR1', 'GDDR1',\n",
       "       'DDR3 SDRAM', 'SDR SDRAM', 'VRAM', 'DDR5X', 'GDDR5X SDRAM',\n",
       "       'DDR2 SDRAM', '64MB', '1GB', 'GDDR2 SDRAM', 'OLD', '4GB', 'Simm',\n",
       "       'Ddr3', '256', 'DDR1 SDRAM', 'Gddr3', 'WRAM', 'GP107', 'NON',\n",
       "       'DDR4', 'EDO RAM', 'DRAM', 'GDDR4 SDRAM', 'N/A', 'SDRAM', '3D-RAM',\n",
       "       '8 GB GDDR5'], dtype=object)"
      ]
     },
     "execution_count": 14,
     "metadata": {},
     "output_type": "execute_result"
    }
   ],
   "source": [
    "#clean up memory type column\n",
    "#ebay_data['memory_type'] = ebay_data['memory_type'].str.replace('DDR?\\d?X (\\w)','')\n",
    "ebay_data['memory_type'].unique()"
   ]
  },
  {
   "cell_type": "code",
   "execution_count": 15,
   "metadata": {},
   "outputs": [
    {
     "data": {
      "text/plain": [
       "array([None, 'NVIDIA', 'ATI', 'AMD', '3DFX', 'Yes', 'EVGA', 'Gigabyte',\n",
       "       'EASYDIY', 'Fstop Labs', 'ZOTAC', 'Asus', 'Matrox', 'For ATI',\n",
       "       'AMD/ATi', 'Radeon', 'nVIDIA', 'XFX', 'S3', 'No', 'Other', 'MSI',\n",
       "       'Dell Nvidia NVS 310', 'EVGA GeForce', 'ASUS',\n",
       "       'Sapphire Technology', '650MHz', 'For NVIDIA GeForce', 'For AMD',\n",
       "       'Trident', 'Nvidia', 'MSI Computer', 'StarTech', '3Dfx Voodoo2',\n",
       "       'Geforce GT210', 'AMD/ATI', 'VideoChip', 'manufacturer', 'Evga',\n",
       "       'Apple', 'NVIDIA GT 10 Series', 'Gemini', 'Nvidia/MSI', 'SiS',\n",
       "       'PNY', 'for NVIDIA', 'AMD ATI', 'Dell/Nvidia', 'Cirrus Logic',\n",
       "       'Intel', 'MSI COMPUTER', 'Barco', 'asus', 'EVGA]', '3dfx',\n",
       "       'XtremeMac', 'NVIDIA Quadro 4000', 'AMD FirePro W5100', 'Voodoo',\n",
       "       'PowerColor', 'AMD Radeon RX 580', 'DDR5', '825MHz', '3DLabs',\n",
       "       'cirrus', 'Sapphire Tech', '3 Years', 'NONE', 'AMD Radeon HD 7470',\n",
       "       '3Dlabs', 'Oak Technology', 'SAPPHIRE', 'Gigabyte Technology',\n",
       "       'Zotac', 'nVidia', 'NVIDIA Quadro NVS 420', 'ATI / AMD',\n",
       "       'PC Chips', 'VISIONTEK', 'AMD RX Series', 'NVIDIA GTX 10 Series',\n",
       "       'See Pics', 'evga'], dtype=object)"
      ]
     },
     "execution_count": 15,
     "metadata": {},
     "output_type": "execute_result"
    }
   ],
   "source": [
    " #check out manufacturer column\n",
    "ebay_data['manufacturer'].unique()"
   ]
  },
  {
   "cell_type": "code",
   "execution_count": 16,
   "metadata": {},
   "outputs": [
    {
     "data": {
      "text/plain": [
       "array([None, 'NVIDIA', 'ATI', 'AMD', '3DFX', 'YES', 'EVGA', 'GIGABYTE',\n",
       "       'EASYDIY', 'FSTOP LABS', 'ZOTAC', 'ASUS', 'MATROX', 'FOR ATI',\n",
       "       'AMD/ATI', 'RADEON', 'XFX', 'S3', 'NO', 'OTHER', 'MSI',\n",
       "       'DELL NVIDIA NVS 310', 'EVGA GEFORCE', 'SAPPHIRE TECHNOLOGY',\n",
       "       '650MHZ', 'FOR NVIDIA GEFORCE', 'FOR AMD', 'TRIDENT',\n",
       "       'MSI COMPUTER', 'STARTECH', '3DFX VOODOO2', 'GEFORCE GT210',\n",
       "       'VIDEOCHIP', 'MANUFACTURER', 'APPLE', 'NVIDIA GT 10 SERIES',\n",
       "       'GEMINI', 'NVIDIA/MSI', 'SIS', 'PNY', 'FOR NVIDIA', 'AMD ATI',\n",
       "       'DELL/NVIDIA', 'CIRRUS LOGIC', 'INTEL', 'BARCO', 'EVGA]',\n",
       "       'XTREMEMAC', 'NVIDIA QUADRO 4000', 'AMD FIREPRO W5100', 'VOODOO',\n",
       "       'POWERCOLOR', 'AMD RADEON RX 580', 'DDR5', '825MHZ', '3DLABS',\n",
       "       'CIRRUS', 'SAPPHIRE TECH', '3 YEARS', 'NONE', 'AMD RADEON HD 7470',\n",
       "       'OAK TECHNOLOGY', 'SAPPHIRE', 'GIGABYTE TECHNOLOGY',\n",
       "       'NVIDIA QUADRO NVS 420', 'ATI / AMD', 'PC CHIPS', 'VISIONTEK',\n",
       "       'AMD RX SERIES', 'NVIDIA GTX 10 SERIES', 'SEE PICS'], dtype=object)"
      ]
     },
     "execution_count": 16,
     "metadata": {},
     "output_type": "execute_result"
    }
   ],
   "source": [
    "ebay_data['manufacturer'] = ebay_data['manufacturer'].str.upper()\n",
    "ebay_data['manufacturer'].unique()\n",
    "#drop manufacturer = 'YES' ? What to do about AMD / NVIDIA?"
   ]
  },
  {
   "cell_type": "code",
   "execution_count": 17,
   "metadata": {},
   "outputs": [
    {
     "data": {
      "text/plain": [
       "NVIDIA                   3267\n",
       "AMD                      1328\n",
       "ATI                       378\n",
       "YES                        30\n",
       "EVGA                       22\n",
       "ASUS                       17\n",
       "NO                         13\n",
       "MATROX                     13\n",
       "GIGABYTE                   12\n",
       "MSI                        11\n",
       "FOR NVIDIA GEFORCE         10\n",
       "VIDEOCHIP                   8\n",
       "OTHER                       7\n",
       "POWERCOLOR                  6\n",
       "3DFX                        5\n",
       "MSI COMPUTER                5\n",
       "ZOTAC                       4\n",
       "XFX                         4\n",
       "3 YEARS                     3\n",
       "FSTOP LABS                  3\n",
       "RADEON                      3\n",
       "AMD ATI                     3\n",
       "CIRRUS LOGIC                3\n",
       "AMD/ATI                     3\n",
       "S3                          3\n",
       "SIS                         3\n",
       "NVIDIA QUADRO 4000          2\n",
       "NVIDIA GT 10 SERIES         2\n",
       "3DLABS                      2\n",
       "EASYDIY                     2\n",
       "                         ... \n",
       "GEFORCE GT210               1\n",
       "FOR AMD                     1\n",
       "DELL NVIDIA NVS 310         1\n",
       "INTEL                       1\n",
       "CIRRUS                      1\n",
       "DDR5                        1\n",
       "GEMINI                      1\n",
       "650MHZ                      1\n",
       "OAK TECHNOLOGY              1\n",
       "TRIDENT                     1\n",
       "MANUFACTURER                1\n",
       "NVIDIA QUADRO NVS 420       1\n",
       "NVIDIA GTX 10 SERIES        1\n",
       "825MHZ                      1\n",
       "ATI / AMD                   1\n",
       "STARTECH                    1\n",
       "SAPPHIRE TECH               1\n",
       "SAPPHIRE TECHNOLOGY         1\n",
       "SEE PICS                    1\n",
       "XTREMEMAC                   1\n",
       "SAPPHIRE                    1\n",
       "APPLE                       1\n",
       "3DFX VOODOO2                1\n",
       "VOODOO                      1\n",
       "VISIONTEK                   1\n",
       "NVIDIA/MSI                  1\n",
       "EVGA]                       1\n",
       "AMD FIREPRO W5100           1\n",
       "PC CHIPS                    1\n",
       "FOR NVIDIA                  1\n",
       "Name: manufacturer, Length: 70, dtype: int64"
      ]
     },
     "execution_count": 17,
     "metadata": {},
     "output_type": "execute_result"
    }
   ],
   "source": [
    "ebay_data['manufacturer'].value_counts()"
   ]
  },
  {
   "cell_type": "code",
   "execution_count": 18,
   "metadata": {},
   "outputs": [],
   "source": [
    "#ebay_data[(ebay_data['manufacturer'].str.find('NVIDIA') != -1 )&(ebay_data['manufacturer'].notnull())]['manufacturer'] = \"NVIDIA\""
   ]
  },
  {
   "cell_type": "code",
   "execution_count": 19,
   "metadata": {},
   "outputs": [
    {
     "data": {
      "text/plain": [
       "NVIDIA                   3267\n",
       "AMD                      1328\n",
       "ATI                       378\n",
       "YES                        30\n",
       "EVGA                       22\n",
       "ASUS                       17\n",
       "NO                         13\n",
       "MATROX                     13\n",
       "GIGABYTE                   12\n",
       "MSI                        11\n",
       "FOR NVIDIA GEFORCE         10\n",
       "VIDEOCHIP                   8\n",
       "OTHER                       7\n",
       "POWERCOLOR                  6\n",
       "3DFX                        5\n",
       "MSI COMPUTER                5\n",
       "ZOTAC                       4\n",
       "XFX                         4\n",
       "3 YEARS                     3\n",
       "FSTOP LABS                  3\n",
       "RADEON                      3\n",
       "AMD ATI                     3\n",
       "CIRRUS LOGIC                3\n",
       "AMD/ATI                     3\n",
       "S3                          3\n",
       "SIS                         3\n",
       "NVIDIA QUADRO 4000          2\n",
       "NVIDIA GT 10 SERIES         2\n",
       "3DLABS                      2\n",
       "EASYDIY                     2\n",
       "                         ... \n",
       "GEFORCE GT210               1\n",
       "FOR AMD                     1\n",
       "DELL NVIDIA NVS 310         1\n",
       "INTEL                       1\n",
       "CIRRUS                      1\n",
       "DDR5                        1\n",
       "GEMINI                      1\n",
       "650MHZ                      1\n",
       "OAK TECHNOLOGY              1\n",
       "TRIDENT                     1\n",
       "MANUFACTURER                1\n",
       "NVIDIA QUADRO NVS 420       1\n",
       "NVIDIA GTX 10 SERIES        1\n",
       "825MHZ                      1\n",
       "ATI / AMD                   1\n",
       "STARTECH                    1\n",
       "SAPPHIRE TECH               1\n",
       "SAPPHIRE TECHNOLOGY         1\n",
       "SEE PICS                    1\n",
       "XTREMEMAC                   1\n",
       "SAPPHIRE                    1\n",
       "APPLE                       1\n",
       "3DFX VOODOO2                1\n",
       "VOODOO                      1\n",
       "VISIONTEK                   1\n",
       "NVIDIA/MSI                  1\n",
       "EVGA]                       1\n",
       "AMD FIREPRO W5100           1\n",
       "PC CHIPS                    1\n",
       "FOR NVIDIA                  1\n",
       "Name: manufacturer, Length: 70, dtype: int64"
      ]
     },
     "execution_count": 19,
     "metadata": {},
     "output_type": "execute_result"
    }
   ],
   "source": [
    "#ebay_data[ebay_data['manufacturer'].str.find('NVIDIA') != -1] = \"NVIDIA\"\n",
    "ebay_data['manufacturer'].value_counts()"
   ]
  },
  {
   "cell_type": "code",
   "execution_count": 20,
   "metadata": {},
   "outputs": [
    {
     "data": {
      "text/plain": [
       "array(['1GB', '2GB', '256MB', '4GB', '512 MB', '8GB', None, '3GB',\n",
       "       '2.5GB', '11GB', '6GB', '128MB', '16MB', '8', '3 GB', '512MB',\n",
       "       '1.5GB', '8MB', '2 GB', '64Kb', '5GB', '16GB', '12GB', '3072MB',\n",
       "       '896MB', '1 GB', '768MB', '768 MB', '64MB', '4 MB', '1024MB',\n",
       "       '1MB', '16 GB', '4 GB', '8GB Memory', '32MB', '2G', '6 GB', '2MB',\n",
       "       '2GB 256-Bit GDDR5', '4096MB', '12 GB', '2048MB', '512Kb', '12MB',\n",
       "       '6144MB', '4MB', 'Rage XL 8M', '1.25GB', '218MB', '1280MB',\n",
       "       'Description', '1536MB', '4096M (4GB)', '640MB', '256kb', '24GB',\n",
       "       '256MB Onboard Supporting 512MB', '8 GB', '1G TC 4G', '1 MB',\n",
       "       '2.5 GB', '320MB', '32 MB', '1.75GB', '4GB - 1GB', '1.28GB',\n",
       "       '256KB', '256GB', '2048 MB', '00FC903', '32GB', '128 MB', '256 MB',\n",
       "       '1792MB', '8192MB', '1024m', '3mb', '1024 MB', '384MB', '4',\n",
       "       'SEE PICS', '8GB GDDR5'], dtype=object)"
      ]
     },
     "execution_count": 20,
     "metadata": {},
     "output_type": "execute_result"
    }
   ],
   "source": [
    "#clean up memory size column (make it numeric by converting all to KB)\n",
    "ebay_data['memory_size'].unique()"
   ]
  },
  {
   "cell_type": "code",
   "execution_count": 21,
   "metadata": {},
   "outputs": [
    {
     "data": {
      "text/plain": [
       "8GB                               1412\n",
       "4GB                               1317\n",
       "2GB                                954\n",
       "1GB                                852\n",
       "NaN                                831\n",
       "6GB                                401\n",
       "3GB                                387\n",
       "11GB                               325\n",
       "512MB                              301\n",
       "256MB                              237\n",
       "128MB                               90\n",
       "12GB                                35\n",
       "64MB                                34\n",
       "1.5GB                               31\n",
       "8MB                                 23\n",
       "768MB                               20\n",
       "32MB                                18\n",
       "16GB                                17\n",
       "16MB                                16\n",
       "2 GB                                16\n",
       "5GB                                 14\n",
       "2.5GB                               13\n",
       "4 GB                                13\n",
       "896MB                               11\n",
       "1 GB                                11\n",
       "4MB                                 10\n",
       "2MB                                  9\n",
       "512 MB                               9\n",
       "Description                          8\n",
       "1280MB                               8\n",
       "                                  ... \n",
       "24GB                                 2\n",
       "6144MB                               2\n",
       "4GB - 1GB                            1\n",
       "1.75GB                               1\n",
       "8 GB                                 1\n",
       "256MB Onboard Supporting 512MB       1\n",
       "218MB                                1\n",
       "8GB Memory                           1\n",
       "768 MB                               1\n",
       "1G TC 4G                             1\n",
       "4                                    1\n",
       "3mb                                  1\n",
       "1 MB                                 1\n",
       "1024 MB                              1\n",
       "32GB                                 1\n",
       "4096M (4GB)                          1\n",
       "8GB GDDR5                            1\n",
       "8192MB                               1\n",
       "1024m                                1\n",
       "00FC903                              1\n",
       "2GB 256-Bit GDDR5                    1\n",
       "512Kb                                1\n",
       "SEE PICS                             1\n",
       "256KB                                1\n",
       "1536MB                               1\n",
       "Rage XL 8M                           1\n",
       "4 MB                                 1\n",
       "1792MB                               1\n",
       "32 MB                                1\n",
       "2048 MB                              1\n",
       "Name: memory_size, Length: 83, dtype: int64"
      ]
     },
     "execution_count": 21,
     "metadata": {},
     "output_type": "execute_result"
    }
   ],
   "source": [
    "ebay_data['memory_size'].value_counts(dropna=False)"
   ]
  },
  {
   "cell_type": "code",
   "execution_count": 22,
   "metadata": {},
   "outputs": [
    {
     "data": {
      "text/plain": [
       "831"
      ]
     },
     "execution_count": 22,
     "metadata": {},
     "output_type": "execute_result"
    }
   ],
   "source": [
    "#how many Nones do we have?\n",
    "len(ebay_data[ebay_data['memory_size'].isnull()])"
   ]
  },
  {
   "cell_type": "code",
   "execution_count": 23,
   "metadata": {},
   "outputs": [],
   "source": [
    "def convert_to_kb(mem_string):\n",
    "    try:\n",
    "        mem_string = mem_string.upper()\n",
    "        amount_type_split = re.match(r\"([0-9]+(\\.[0-9]+)?)([A-Z]B)\", mem_string, re.I)\n",
    "        amount = float(amount_type_split.group(1))\n",
    "        mem_type = amount_type_split.group(3).upper()\n",
    "        #print(amount, mem_type)\n",
    "        if mem_type == 'GB':\n",
    "            amount = amount *(1024**2)\n",
    "        elif mem_type == 'MB':\n",
    "            amount = amount * 1024\n",
    "        #print(amount)\n",
    "        return amount\n",
    "    except:\n",
    "        #print('Exception!')\n",
    "        return None\n",
    "ebay_data['memory_size_kb'] = ebay_data['memory_size'].apply(convert_to_kb)\n",
    "ebay_data.drop(columns=['memory_size'], inplace=True)\n"
   ]
  },
  {
   "cell_type": "code",
   "execution_count": 24,
   "metadata": {},
   "outputs": [
    {
     "data": {
      "text/plain": [
       "16777216.0"
      ]
     },
     "execution_count": 24,
     "metadata": {},
     "output_type": "execute_result"
    }
   ],
   "source": [
    "#check if it works\n",
    "convert_to_kb('16GB')"
   ]
  },
  {
   "cell_type": "code",
   "execution_count": 25,
   "metadata": {},
   "outputs": [
    {
     "data": {
      "text/plain": [
       "930"
      ]
     },
     "execution_count": 25,
     "metadata": {},
     "output_type": "execute_result"
    }
   ],
   "source": [
    "#find empty values in memory_size\n",
    "len(ebay_data[ebay_data['memory_size_kb'].isnull()])"
   ]
  },
  {
   "cell_type": "code",
   "execution_count": 26,
   "metadata": {},
   "outputs": [],
   "source": [
    "#replace empty values with the mean\n",
    "ebay_data['memory_size_kb'].fillna(ebay_data['memory_size_kb'].mean(), inplace=True)"
   ]
  },
  {
   "cell_type": "code",
   "execution_count": 27,
   "metadata": {},
   "outputs": [
    {
     "data": {
      "text/plain": [
       "Used                        5308\n",
       "New                         1062\n",
       "New other (see details)      545\n",
       "For parts or not working     295\n",
       "Seller refurbished           237\n",
       "Manufacturer refurbished      82\n",
       "Name: condition, dtype: int64"
      ]
     },
     "execution_count": 27,
     "metadata": {},
     "output_type": "execute_result"
    }
   ],
   "source": [
    "#check out condition column\n",
    "ebay_data['condition'].value_counts()"
   ]
  },
  {
   "cell_type": "code",
   "execution_count": 28,
   "metadata": {},
   "outputs": [],
   "source": [
    "ebay_data_small = ebay_data[['memory_size_kb','sold_price']]"
   ]
  },
  {
   "cell_type": "code",
   "execution_count": 29,
   "metadata": {},
   "outputs": [],
   "source": [
    "#round ebay sold_date_time to nearest day to merge with crypto_data and rename the column\n",
    "ebay_data['sold_date'] = ebay_data['sold_date_time'].dt.round('d')\n",
    "ebay_data.drop(columns=['sold_date_time'], inplace=True)"
   ]
  },
  {
   "cell_type": "code",
   "execution_count": 30,
   "metadata": {},
   "outputs": [
    {
     "data": {
      "text/plain": [
       "count                    7530\n",
       "unique                     46\n",
       "top       2018-06-07 00:00:00\n",
       "freq                      332\n",
       "first     2018-06-04 00:00:00\n",
       "last      2018-07-19 00:00:00\n",
       "Name: sold_date, dtype: object"
      ]
     },
     "execution_count": 30,
     "metadata": {},
     "output_type": "execute_result"
    }
   ],
   "source": [
    "#figure out ebay data date_range\n",
    "ebay_data['sold_date'].describe()"
   ]
  },
  {
   "cell_type": "code",
   "execution_count": 31,
   "metadata": {},
   "outputs": [],
   "source": [
    "#we have june 4th to july 19th!"
   ]
  },
  {
   "cell_type": "code",
   "execution_count": 32,
   "metadata": {},
   "outputs": [
    {
     "name": "stdout",
     "output_type": "stream",
     "text": [
      "<class 'pandas.core.frame.DataFrame'>\n",
      "RangeIndex: 51 entries, 0 to 50\n",
      "Data columns (total 2 columns):\n",
      "Date           51 non-null object\n",
      "Close Price    49 non-null float64\n",
      "dtypes: float64(1), object(1)\n",
      "memory usage: 896.0+ bytes\n"
     ]
    }
   ],
   "source": [
    "crypto_data = pd.read_csv('bit_coin_2018-06-03_2018-07-18.csv')\n",
    "#crypto_data['Date'] = pd.to_datetime(crypto_data['Date'])\n",
    "crypto_data.info()"
   ]
  },
  {
   "cell_type": "code",
   "execution_count": 33,
   "metadata": {},
   "outputs": [
    {
     "data": {
      "text/html": [
       "<div>\n",
       "<style scoped>\n",
       "    .dataframe tbody tr th:only-of-type {\n",
       "        vertical-align: middle;\n",
       "    }\n",
       "\n",
       "    .dataframe tbody tr th {\n",
       "        vertical-align: top;\n",
       "    }\n",
       "\n",
       "    .dataframe thead th {\n",
       "        text-align: right;\n",
       "    }\n",
       "</style>\n",
       "<table border=\"1\" class=\"dataframe\">\n",
       "  <thead>\n",
       "    <tr style=\"text-align: right;\">\n",
       "      <th></th>\n",
       "      <th>Date</th>\n",
       "      <th>Close Price</th>\n",
       "    </tr>\n",
       "  </thead>\n",
       "  <tbody>\n",
       "    <tr>\n",
       "      <th>0</th>\n",
       "      <td>2018-06-01 00:00:00</td>\n",
       "      <td>7518.24</td>\n",
       "    </tr>\n",
       "    <tr>\n",
       "      <th>1</th>\n",
       "      <td>2018-06-02 00:00:00</td>\n",
       "      <td>7636.19</td>\n",
       "    </tr>\n",
       "    <tr>\n",
       "      <th>2</th>\n",
       "      <td>2018-06-03 00:00:00</td>\n",
       "      <td>7711.36</td>\n",
       "    </tr>\n",
       "    <tr>\n",
       "      <th>3</th>\n",
       "      <td>2018-06-04 00:00:00</td>\n",
       "      <td>7490.59</td>\n",
       "    </tr>\n",
       "    <tr>\n",
       "      <th>4</th>\n",
       "      <td>2018-06-05 00:00:00</td>\n",
       "      <td>7616.89</td>\n",
       "    </tr>\n",
       "  </tbody>\n",
       "</table>\n",
       "</div>"
      ],
      "text/plain": [
       "                  Date  Close Price\n",
       "0  2018-06-01 00:00:00      7518.24\n",
       "1  2018-06-02 00:00:00      7636.19\n",
       "2  2018-06-03 00:00:00      7711.36\n",
       "3  2018-06-04 00:00:00      7490.59\n",
       "4  2018-06-05 00:00:00      7616.89"
      ]
     },
     "execution_count": 33,
     "metadata": {},
     "output_type": "execute_result"
    }
   ],
   "source": [
    "crypto_data.head()"
   ]
  },
  {
   "cell_type": "code",
   "execution_count": 34,
   "metadata": {},
   "outputs": [],
   "source": [
    "#looks like it's broken down daily closing price, let's rename the column for the merge\n",
    "crypto_data.rename(columns={'Close Price':'bit_coin_close_price'}, inplace=True)"
   ]
  },
  {
   "cell_type": "code",
   "execution_count": 35,
   "metadata": {},
   "outputs": [
    {
     "data": {
      "text/html": [
       "<div>\n",
       "<style scoped>\n",
       "    .dataframe tbody tr th:only-of-type {\n",
       "        vertical-align: middle;\n",
       "    }\n",
       "\n",
       "    .dataframe tbody tr th {\n",
       "        vertical-align: top;\n",
       "    }\n",
       "\n",
       "    .dataframe thead th {\n",
       "        text-align: right;\n",
       "    }\n",
       "</style>\n",
       "<table border=\"1\" class=\"dataframe\">\n",
       "  <thead>\n",
       "    <tr style=\"text-align: right;\">\n",
       "      <th></th>\n",
       "      <th>Date</th>\n",
       "      <th>bit_coin_close_price</th>\n",
       "    </tr>\n",
       "  </thead>\n",
       "  <tbody>\n",
       "    <tr>\n",
       "      <th>46</th>\n",
       "      <td>2018-07-17 00:00:00</td>\n",
       "      <td>7314.94</td>\n",
       "    </tr>\n",
       "    <tr>\n",
       "      <th>47</th>\n",
       "      <td>2018-07-18 00:00:00</td>\n",
       "      <td>7378.76</td>\n",
       "    </tr>\n",
       "    <tr>\n",
       "      <th>48</th>\n",
       "      <td>2018-07-19 20:30:00</td>\n",
       "      <td>7460.48</td>\n",
       "    </tr>\n",
       "    <tr>\n",
       "      <th>49</th>\n",
       "      <td>This data was produced from the CoinDesk price...</td>\n",
       "      <td>NaN</td>\n",
       "    </tr>\n",
       "    <tr>\n",
       "      <th>50</th>\n",
       "      <td>http://www.coindesk.com/price/</td>\n",
       "      <td>NaN</td>\n",
       "    </tr>\n",
       "  </tbody>\n",
       "</table>\n",
       "</div>"
      ],
      "text/plain": [
       "                                                 Date  bit_coin_close_price\n",
       "46                                2018-07-17 00:00:00               7314.94\n",
       "47                                2018-07-18 00:00:00               7378.76\n",
       "48                                2018-07-19 20:30:00               7460.48\n",
       "49  This data was produced from the CoinDesk price...                   NaN\n",
       "50                     http://www.coindesk.com/price/                   NaN"
      ]
     },
     "execution_count": 35,
     "metadata": {},
     "output_type": "execute_result"
    }
   ],
   "source": [
    "#check for weirdness\n",
    "crypto_data.tail()"
   ]
  },
  {
   "cell_type": "code",
   "execution_count": 36,
   "metadata": {},
   "outputs": [
    {
     "data": {
      "text/html": [
       "<div>\n",
       "<style scoped>\n",
       "    .dataframe tbody tr th:only-of-type {\n",
       "        vertical-align: middle;\n",
       "    }\n",
       "\n",
       "    .dataframe tbody tr th {\n",
       "        vertical-align: top;\n",
       "    }\n",
       "\n",
       "    .dataframe thead th {\n",
       "        text-align: right;\n",
       "    }\n",
       "</style>\n",
       "<table border=\"1\" class=\"dataframe\">\n",
       "  <thead>\n",
       "    <tr style=\"text-align: right;\">\n",
       "      <th></th>\n",
       "      <th>Date</th>\n",
       "      <th>bit_coin_close_price</th>\n",
       "    </tr>\n",
       "  </thead>\n",
       "  <tbody>\n",
       "    <tr>\n",
       "      <th>44</th>\n",
       "      <td>2018-07-15 00:00:00</td>\n",
       "      <td>6349.04</td>\n",
       "    </tr>\n",
       "    <tr>\n",
       "      <th>45</th>\n",
       "      <td>2018-07-16 00:00:00</td>\n",
       "      <td>6726.40</td>\n",
       "    </tr>\n",
       "    <tr>\n",
       "      <th>46</th>\n",
       "      <td>2018-07-17 00:00:00</td>\n",
       "      <td>7314.94</td>\n",
       "    </tr>\n",
       "    <tr>\n",
       "      <th>47</th>\n",
       "      <td>2018-07-18 00:00:00</td>\n",
       "      <td>7378.76</td>\n",
       "    </tr>\n",
       "    <tr>\n",
       "      <th>48</th>\n",
       "      <td>2018-07-19 20:30:00</td>\n",
       "      <td>7460.48</td>\n",
       "    </tr>\n",
       "  </tbody>\n",
       "</table>\n",
       "</div>"
      ],
      "text/plain": [
       "                   Date  bit_coin_close_price\n",
       "44  2018-07-15 00:00:00               6349.04\n",
       "45  2018-07-16 00:00:00               6726.40\n",
       "46  2018-07-17 00:00:00               7314.94\n",
       "47  2018-07-18 00:00:00               7378.76\n",
       "48  2018-07-19 20:30:00               7460.48"
      ]
     },
     "execution_count": 36,
     "metadata": {},
     "output_type": "execute_result"
    }
   ],
   "source": [
    "#drop the null rows\n",
    "crypto_data.dropna(inplace=True)\n",
    "crypto_data.tail()"
   ]
  },
  {
   "cell_type": "code",
   "execution_count": 37,
   "metadata": {},
   "outputs": [],
   "source": [
    "crypto_data['Date'] = pd.to_datetime(crypto_data['Date'], infer_datetime_format=True).dt.round('d')"
   ]
  },
  {
   "cell_type": "code",
   "execution_count": 38,
   "metadata": {},
   "outputs": [
    {
     "name": "stdout",
     "output_type": "stream",
     "text": [
      "<class 'pandas.core.frame.DataFrame'>\n",
      "Int64Index: 49 entries, 0 to 48\n",
      "Data columns (total 2 columns):\n",
      "Date                    49 non-null datetime64[ns]\n",
      "bit_coin_close_price    49 non-null float64\n",
      "dtypes: datetime64[ns](1), float64(1)\n",
      "memory usage: 1.1 KB\n"
     ]
    }
   ],
   "source": [
    "crypto_data.info()"
   ]
  },
  {
   "cell_type": "code",
   "execution_count": 39,
   "metadata": {},
   "outputs": [
    {
     "data": {
      "text/plain": [
       "count                      49\n",
       "unique                     49\n",
       "top       2018-06-11 00:00:00\n",
       "freq                        1\n",
       "first     2018-06-01 00:00:00\n",
       "last      2018-07-20 00:00:00\n",
       "Name: Date, dtype: object"
      ]
     },
     "execution_count": 39,
     "metadata": {},
     "output_type": "execute_result"
    }
   ],
   "source": [
    "#look for inconsistencies in the data\n",
    "crypto_data['Date'].describe()"
   ]
  },
  {
   "cell_type": "code",
   "execution_count": 40,
   "metadata": {},
   "outputs": [
    {
     "data": {
      "text/plain": [
       "7530"
      ]
     },
     "execution_count": 40,
     "metadata": {},
     "output_type": "execute_result"
    }
   ],
   "source": [
    "#how many rows do we have left in ebay data? don't want to lose any in the merge\n",
    "len(ebay_data)"
   ]
  },
  {
   "cell_type": "code",
   "execution_count": 41,
   "metadata": {},
   "outputs": [
    {
     "data": {
      "text/plain": [
       "count                    7530\n",
       "unique                     46\n",
       "top       2018-06-07 00:00:00\n",
       "freq                      332\n",
       "first     2018-06-04 00:00:00\n",
       "last      2018-07-19 00:00:00\n",
       "Name: sold_date, dtype: object"
      ]
     },
     "execution_count": 41,
     "metadata": {},
     "output_type": "execute_result"
    }
   ],
   "source": [
    "ebay_data['sold_date'].describe()"
   ]
  },
  {
   "cell_type": "code",
   "execution_count": 42,
   "metadata": {},
   "outputs": [
    {
     "name": "stdout",
     "output_type": "stream",
     "text": [
      "<class 'pandas.core.frame.DataFrame'>\n",
      "Int64Index: 7406 entries, 0 to 7405\n",
      "Data columns (total 8 columns):\n",
      "condition               7405 non-null object\n",
      "manufacturer            5136 non-null object\n",
      "memory_type             5388 non-null object\n",
      "sold_price              7406 non-null float64\n",
      "memory_size_kb          7406 non-null float64\n",
      "sold_date               7406 non-null datetime64[ns]\n",
      "Date                    7406 non-null datetime64[ns]\n",
      "bit_coin_close_price    7406 non-null float64\n",
      "dtypes: datetime64[ns](2), float64(3), object(3)\n",
      "memory usage: 520.7+ KB\n"
     ]
    }
   ],
   "source": [
    "#merge in crypto_data\n",
    "data = pd.merge(ebay_data,crypto_data, left_on=\"sold_date\", right_on='Date')\n",
    "data.info()"
   ]
  },
  {
   "cell_type": "code",
   "execution_count": 43,
   "metadata": {},
   "outputs": [
    {
     "data": {
      "text/html": [
       "<div>\n",
       "<style scoped>\n",
       "    .dataframe tbody tr th:only-of-type {\n",
       "        vertical-align: middle;\n",
       "    }\n",
       "\n",
       "    .dataframe tbody tr th {\n",
       "        vertical-align: top;\n",
       "    }\n",
       "\n",
       "    .dataframe thead th {\n",
       "        text-align: right;\n",
       "    }\n",
       "</style>\n",
       "<table border=\"1\" class=\"dataframe\">\n",
       "  <thead>\n",
       "    <tr style=\"text-align: right;\">\n",
       "      <th></th>\n",
       "      <th>condition</th>\n",
       "      <th>manufacturer</th>\n",
       "      <th>memory_type</th>\n",
       "      <th>sold_price</th>\n",
       "      <th>memory_size_kb</th>\n",
       "      <th>sold_date</th>\n",
       "      <th>Date</th>\n",
       "      <th>bit_coin_close_price</th>\n",
       "    </tr>\n",
       "  </thead>\n",
       "  <tbody>\n",
       "    <tr>\n",
       "      <th>0</th>\n",
       "      <td>Used</td>\n",
       "      <td>NVIDIA</td>\n",
       "      <td>DDR3</td>\n",
       "      <td>40.99</td>\n",
       "      <td>2.097152e+06</td>\n",
       "      <td>2018-07-18</td>\n",
       "      <td>2018-07-18</td>\n",
       "      <td>7378.76</td>\n",
       "    </tr>\n",
       "    <tr>\n",
       "      <th>1</th>\n",
       "      <td>Seller refurbished</td>\n",
       "      <td>NVIDIA</td>\n",
       "      <td>GDDR5</td>\n",
       "      <td>59.99</td>\n",
       "      <td>1.048576e+06</td>\n",
       "      <td>2018-07-18</td>\n",
       "      <td>2018-07-18</td>\n",
       "      <td>7378.76</td>\n",
       "    </tr>\n",
       "    <tr>\n",
       "      <th>2</th>\n",
       "      <td>Used</td>\n",
       "      <td>NVIDIA</td>\n",
       "      <td>GDDR5</td>\n",
       "      <td>59.00</td>\n",
       "      <td>1.048576e+06</td>\n",
       "      <td>2018-07-18</td>\n",
       "      <td>2018-07-18</td>\n",
       "      <td>7378.76</td>\n",
       "    </tr>\n",
       "    <tr>\n",
       "      <th>3</th>\n",
       "      <td>Used</td>\n",
       "      <td>ATI</td>\n",
       "      <td>DDR2</td>\n",
       "      <td>7.00</td>\n",
       "      <td>1.310720e+05</td>\n",
       "      <td>2018-07-18</td>\n",
       "      <td>2018-07-18</td>\n",
       "      <td>7378.76</td>\n",
       "    </tr>\n",
       "    <tr>\n",
       "      <th>4</th>\n",
       "      <td>Seller refurbished</td>\n",
       "      <td>AMD</td>\n",
       "      <td>DDR5</td>\n",
       "      <td>260.00</td>\n",
       "      <td>4.488604e+06</td>\n",
       "      <td>2018-07-18</td>\n",
       "      <td>2018-07-18</td>\n",
       "      <td>7378.76</td>\n",
       "    </tr>\n",
       "  </tbody>\n",
       "</table>\n",
       "</div>"
      ],
      "text/plain": [
       "            condition manufacturer memory_type  sold_price  memory_size_kb  \\\n",
       "0                Used       NVIDIA        DDR3       40.99    2.097152e+06   \n",
       "1  Seller refurbished       NVIDIA       GDDR5       59.99    1.048576e+06   \n",
       "2                Used       NVIDIA       GDDR5       59.00    1.048576e+06   \n",
       "3                Used          ATI        DDR2        7.00    1.310720e+05   \n",
       "4  Seller refurbished          AMD        DDR5      260.00    4.488604e+06   \n",
       "\n",
       "   sold_date       Date  bit_coin_close_price  \n",
       "0 2018-07-18 2018-07-18               7378.76  \n",
       "1 2018-07-18 2018-07-18               7378.76  \n",
       "2 2018-07-18 2018-07-18               7378.76  \n",
       "3 2018-07-18 2018-07-18               7378.76  \n",
       "4 2018-07-18 2018-07-18               7378.76  "
      ]
     },
     "execution_count": 43,
     "metadata": {},
     "output_type": "execute_result"
    }
   ],
   "source": [
    "data.head()"
   ]
  },
  {
   "cell_type": "code",
   "execution_count": 44,
   "metadata": {},
   "outputs": [],
   "source": [
    "data.drop(columns=['Date'], inplace=True)"
   ]
  },
  {
   "cell_type": "code",
   "execution_count": 45,
   "metadata": {},
   "outputs": [
    {
     "data": {
      "text/html": [
       "<div>\n",
       "<style scoped>\n",
       "    .dataframe tbody tr th:only-of-type {\n",
       "        vertical-align: middle;\n",
       "    }\n",
       "\n",
       "    .dataframe tbody tr th {\n",
       "        vertical-align: top;\n",
       "    }\n",
       "\n",
       "    .dataframe thead th {\n",
       "        text-align: right;\n",
       "    }\n",
       "</style>\n",
       "<table border=\"1\" class=\"dataframe\">\n",
       "  <thead>\n",
       "    <tr style=\"text-align: right;\">\n",
       "      <th></th>\n",
       "      <th>condition</th>\n",
       "      <th>manufacturer</th>\n",
       "      <th>memory_type</th>\n",
       "      <th>sold_price</th>\n",
       "      <th>memory_size_kb</th>\n",
       "      <th>sold_date</th>\n",
       "      <th>bit_coin_close_price</th>\n",
       "    </tr>\n",
       "  </thead>\n",
       "  <tbody>\n",
       "    <tr>\n",
       "      <th>0</th>\n",
       "      <td>Used</td>\n",
       "      <td>NVIDIA</td>\n",
       "      <td>DDR3</td>\n",
       "      <td>40.99</td>\n",
       "      <td>2.097152e+06</td>\n",
       "      <td>2018-07-18</td>\n",
       "      <td>7378.76</td>\n",
       "    </tr>\n",
       "    <tr>\n",
       "      <th>1</th>\n",
       "      <td>Seller refurbished</td>\n",
       "      <td>NVIDIA</td>\n",
       "      <td>GDDR5</td>\n",
       "      <td>59.99</td>\n",
       "      <td>1.048576e+06</td>\n",
       "      <td>2018-07-18</td>\n",
       "      <td>7378.76</td>\n",
       "    </tr>\n",
       "    <tr>\n",
       "      <th>2</th>\n",
       "      <td>Used</td>\n",
       "      <td>NVIDIA</td>\n",
       "      <td>GDDR5</td>\n",
       "      <td>59.00</td>\n",
       "      <td>1.048576e+06</td>\n",
       "      <td>2018-07-18</td>\n",
       "      <td>7378.76</td>\n",
       "    </tr>\n",
       "    <tr>\n",
       "      <th>3</th>\n",
       "      <td>Used</td>\n",
       "      <td>ATI</td>\n",
       "      <td>DDR2</td>\n",
       "      <td>7.00</td>\n",
       "      <td>1.310720e+05</td>\n",
       "      <td>2018-07-18</td>\n",
       "      <td>7378.76</td>\n",
       "    </tr>\n",
       "    <tr>\n",
       "      <th>4</th>\n",
       "      <td>Seller refurbished</td>\n",
       "      <td>AMD</td>\n",
       "      <td>DDR5</td>\n",
       "      <td>260.00</td>\n",
       "      <td>4.488604e+06</td>\n",
       "      <td>2018-07-18</td>\n",
       "      <td>7378.76</td>\n",
       "    </tr>\n",
       "  </tbody>\n",
       "</table>\n",
       "</div>"
      ],
      "text/plain": [
       "            condition manufacturer memory_type  sold_price  memory_size_kb  \\\n",
       "0                Used       NVIDIA        DDR3       40.99    2.097152e+06   \n",
       "1  Seller refurbished       NVIDIA       GDDR5       59.99    1.048576e+06   \n",
       "2                Used       NVIDIA       GDDR5       59.00    1.048576e+06   \n",
       "3                Used          ATI        DDR2        7.00    1.310720e+05   \n",
       "4  Seller refurbished          AMD        DDR5      260.00    4.488604e+06   \n",
       "\n",
       "   sold_date  bit_coin_close_price  \n",
       "0 2018-07-18               7378.76  \n",
       "1 2018-07-18               7378.76  \n",
       "2 2018-07-18               7378.76  \n",
       "3 2018-07-18               7378.76  \n",
       "4 2018-07-18               7378.76  "
      ]
     },
     "execution_count": 45,
     "metadata": {},
     "output_type": "execute_result"
    }
   ],
   "source": [
    "data.head()"
   ]
  },
  {
   "cell_type": "code",
   "execution_count": 46,
   "metadata": {},
   "outputs": [],
   "source": [
    "#data_small = data[['sold_price', 'memory_size_kb', 'Close Price']]"
   ]
  },
  {
   "cell_type": "code",
   "execution_count": 47,
   "metadata": {},
   "outputs": [],
   "source": [
    "#sns.pairplot(data_small)"
   ]
  },
  {
   "cell_type": "code",
   "execution_count": 48,
   "metadata": {},
   "outputs": [],
   "source": [
    "data.to_pickle('graphics_card_data.pkl')"
   ]
  },
  {
   "cell_type": "code",
   "execution_count": null,
   "metadata": {},
   "outputs": [],
   "source": []
  }
 ],
 "metadata": {
  "kernelspec": {
   "display_name": "Python 3",
   "language": "python",
   "name": "python3"
  },
  "language_info": {
   "codemirror_mode": {
    "name": "ipython",
    "version": 3
   },
   "file_extension": ".py",
   "mimetype": "text/x-python",
   "name": "python",
   "nbconvert_exporter": "python",
   "pygments_lexer": "ipython3",
   "version": "3.6.5"
  }
 },
 "nbformat": 4,
 "nbformat_minor": 2
}
